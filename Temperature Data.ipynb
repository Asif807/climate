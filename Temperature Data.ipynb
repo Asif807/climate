{
 "metadata": {
  "name": "Temperature Data"
 },
 "nbformat": 3,
 "nbformat_minor": 0,
 "worksheets": [
  {
   "cells": [
    {
     "cell_type": "code",
     "collapsed": false,
     "input": [
      "# Data downloaded from: http://berkeleyearth.lbl.gov/auto/Global/Gridded/Complete_TAVG_EqualArea.nc\n",
      "!md5sum /tmp/Complete_TAVG_EqualArea.nc"
     ],
     "language": "python",
     "metadata": {},
     "outputs": [
      {
       "output_type": "stream",
       "stream": "stdout",
       "text": [
        "276321d42c9c86c47808129d0bf0b843  /tmp/Complete_TAVG_EqualArea.nc\r\n"
       ]
      }
     ],
     "prompt_number": 3
    },
    {
     "cell_type": "code",
     "collapsed": false,
     "input": [
      "from netCDF4 import Dataset\n",
      "rootgrp = Dataset('/tmp/Complete_TAVG_EqualArea.nc')"
     ],
     "language": "python",
     "metadata": {},
     "outputs": [],
     "prompt_number": 4
    },
    {
     "cell_type": "code",
     "collapsed": false,
     "input": [
      "rootgrp.variables"
     ],
     "language": "python",
     "metadata": {},
     "outputs": [
      {
       "output_type": "pyout",
       "prompt_number": 5,
       "text": [
        "OrderedDict([(u'longitude', <netCDF4.Variable object at 0x1de6450>), (u'latitude', <netCDF4.Variable object at 0x1dcd150>), (u'time', <netCDF4.Variable object at 0x1dcd550>), (u'month_number', <netCDF4.Variable object at 0x1dcd8d0>), (u'land_mask', <netCDF4.Variable object at 0x1dcd2d0>), (u'temperature', <netCDF4.Variable object at 0x1dcd450>), (u'longitude2', <netCDF4.Variable object at 0x1d593d0>)])"
       ]
      }
     ],
     "prompt_number": 5
    },
    {
     "cell_type": "code",
     "collapsed": false,
     "input": [
      "from numpy import array\n",
      "array(rootgrp.variables[\"longitude\"])"
     ],
     "language": "python",
     "metadata": {},
     "outputs": [
      {
       "output_type": "pyout",
       "prompt_number": 6,
       "text": [
        "array([ -83.57142639,  -70.7142868 ,  -57.8571434 , ..., -120.        ,\n",
        "          0.        ,  120.        ], dtype=float32)"
       ]
      }
     ],
     "prompt_number": 6
    },
    {
     "cell_type": "code",
     "collapsed": false,
     "input": [],
     "language": "python",
     "metadata": {},
     "outputs": []
    }
   ],
   "metadata": {}
  }
 ]
}