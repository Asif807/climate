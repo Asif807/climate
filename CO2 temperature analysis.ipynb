{
 "cells": [
  {
   "cell_type": "markdown",
   "metadata": {},
   "source": [
    "Since the current concentrations $N$ of $CO_2$ in the atmosphere is so high, the direct\n",
    "dependence of the surface temperature $T$ on $N$ should be given approximately by\n",
    "$$\n",
    "T = T_0 + \\Delta T {\\log{N \\over N_0} \\over \\log 2}\\quad\\quad\\quad\\text{(1)}\n",
    "$$\n",
    "Here $T_0$ is a reference temperature, say the temperature in 1980 and $N_0$ is the corresponding\n",
    "atmospheric concentration of $CO_2$, say 340 ppm at Mauna Loa in 1980. From (1) we see\n",
    "that doubling the CO2 concentration (letting $N = 2N_0$) will increase T by the *temperature\n",
    "sensitivity* $\\Delta T$."
   ]
  },
  {
   "cell_type": "markdown",
   "metadata": {},
   "source": [
    "Let's express $\\Delta T$:\n",
    "$$\n",
    "\\Delta T = (T - T_0) {\\log 2 \\over \\log (N/N_0)}\\quad\\quad\\quad\\text{(2)}\n",
    "$$"
   ]
  },
  {
   "cell_type": "markdown",
   "metadata": {},
   "source": [
    "### $CO_2$ Data"
   ]
  },
  {
   "cell_type": "code",
   "execution_count": 1,
   "metadata": {
    "collapsed": false
   },
   "outputs": [
    {
     "name": "stdout",
     "output_type": "stream",
     "text": [
      "Populating the interactive namespace from numpy and matplotlib\n"
     ]
    }
   ],
   "source": [
    "%pylab inline\n",
    "import urllib"
   ]
  },
  {
   "cell_type": "markdown",
   "metadata": {},
   "source": [
    "Let's fetch the raw data of $CO_2$ measurements at Mauna Loa from the `noaa.gov` website:"
   ]
  },
  {
   "cell_type": "code",
   "execution_count": 2,
   "metadata": {
    "collapsed": false
   },
   "outputs": [
    {
     "data": {
      "text/plain": [
       "49915"
      ]
     },
     "execution_count": 2,
     "metadata": {},
     "output_type": "execute_result"
    }
   ],
   "source": [
    "# Only execute this if you want to regenerate the downloaded file\n",
    "open(\"data/co2_mm_mlo.txt\", \"wb\").write(urllib.request.urlopen(\"ftp://ftp.cmdl.noaa.gov/ccg/co2/trends/co2_mm_mlo.txt\").read())"
   ]
  },
  {
   "cell_type": "code",
   "execution_count": 3,
   "metadata": {
    "collapsed": false
   },
   "outputs": [],
   "source": [
    "D = loadtxt(\"data/co2_mm_mlo.txt\")\n",
    "years = D[:, 2]\n",
    "average = D[:, 3]\n",
    "interpolated = D[:, 4]\n",
    "trend = D[:, 5]"
   ]
  },
  {
   "cell_type": "markdown",
   "metadata": {},
   "source": [
    "As explained in the file [co2_mm_mlo.txt](ftp://ftp.cmdl.noaa.gov/ccg/co2/trends/co2_mm_mlo.txt), the `average` column are the raw data of $CO_2$ values averaged over a month, and some months are missing. The `trend` then subtracts \"seasonal cycle\" computed over a 7 year window. The missing values in `trend` are then linearly interpolated. Finally, the `average` column then contains the `trend` value plus average seasonal cycle (i.e. `average` and `interpolated` contain the same values except for missing months, which are \"intelligently\" interpolated). We should do this analysis ourselves in the notebook directly from the `average` data only, but for now let's reuse this analysis."
   ]
  },
  {
   "cell_type": "code",
   "execution_count": 4,
   "metadata": {
    "collapsed": false
   },
   "outputs": [
    {
     "data": {
      "image/png": "[encoded data removed]",
      "text/plain": [
       "<matplotlib.figure.Figure at 0x2b289f2fdd30>"
      ]
     },
     "metadata": {},
     "output_type": "display_data"
    }
   ],
   "source": [
    "plot(years, interpolated, \"r-\", lw=1.5, label=\"monthly average\")\n",
    "plot(years, trend, \"k-\", label=\"trend\")\n",
    "xlabel(\"Year\")\n",
    "ylabel(\"$CO_2$ concentration [ppm]\")\n",
    "title(\"Atmospheric $CO_2$ concentrations at Mauna Loa\")\n",
    "legend(loc=\"upper left\");"
   ]
  },
  {
   "cell_type": "markdown",
   "metadata": {},
   "source": [
    "Let's get numbers for $N$ (year 2010) and $N_0$ (year 1980) by reading it off the $y$-axis:"
   ]
  },
  {
   "cell_type": "code",
   "execution_count": 5,
   "metadata": {
    "collapsed": false
   },
   "outputs": [
    {
     "name": "stdout",
     "output_type": "stream",
     "text": [
      "N0 = 338.09 ppm  (year 1980.042)\n",
      "N  = 388.41 ppm  (year 2010.042)\n"
     ]
    }
   ],
   "source": [
    "idx1980 = sum(years < 1980)\n",
    "idx2010 = sum(years < 2010)\n",
    "N0 = trend[idx1980]\n",
    "N  = trend[idx2010]\n",
    "print(\"N0 = %.2f ppm  (year %.3f)\" % (N0, years[idx1980]))\n",
    "print(\"N  = %.2f ppm  (year %.3f)\" % (N,  years[idx2010]))"
   ]
  },
  {
   "cell_type": "markdown",
   "metadata": {},
   "source": [
    "### Temperature changes"
   ]
  },
  {
   "cell_type": "markdown",
   "metadata": {},
   "source": [
    "Warming from Berkeley Earth in the last 30 years (see a separate notebook for this calculation):"
   ]
  },
  {
   "cell_type": "code",
   "execution_count": 6,
   "metadata": {
    "collapsed": false
   },
   "outputs": [],
   "source": [
    "dTdt = 0.24995728742972512 # C / decade"
   ]
  },
  {
   "cell_type": "markdown",
   "metadata": {},
   "source": [
    "Warming over the past 30 years using satellite measuremenets (see a separate notebook for this calculation):"
   ]
  },
  {
   "cell_type": "code",
   "execution_count": 7,
   "metadata": {
    "collapsed": false
   },
   "outputs": [],
   "source": [
    "dTdt = 0.13764588789937693 # C / decade"
   ]
  },
  {
   "cell_type": "markdown",
   "metadata": {},
   "source": [
    "We'll use the satellite measurements, as arguably they have less systematic errors.\n",
    "Temperature difference:"
   ]
  },
  {
   "cell_type": "code",
   "execution_count": 8,
   "metadata": {
    "collapsed": false
   },
   "outputs": [
    {
     "data": {
      "text/plain": [
       "0.4129376636981308"
      ]
     },
     "execution_count": 8,
     "metadata": {},
     "output_type": "execute_result"
    }
   ],
   "source": [
    "dT = dTdt * 3 # 3 decades\n",
    "dT"
   ]
  },
  {
   "cell_type": "markdown",
   "metadata": {},
   "source": [
    "### Calculation of temperature sensitivity"
   ]
  },
  {
   "cell_type": "markdown",
   "metadata": {},
   "source": [
    "From equation (2) we then directly calculate:"
   ]
  },
  {
   "cell_type": "code",
   "execution_count": 9,
   "metadata": {
    "collapsed": false
   },
   "outputs": [
    {
     "name": "stdout",
     "output_type": "stream",
     "text": [
      "∆T =  2.0629039075597113 C\n"
     ]
    }
   ],
   "source": [
    "from math import log\n",
    "deltaT = dT * log(2) / log(1.0*N/N0)\n",
    "print(\"∆T = \", deltaT, \"C\")"
   ]
  },
  {
   "cell_type": "markdown",
   "metadata": {},
   "source": [
    "This assumes that all warming (`dT` = $T-T_0$) has been caused by $CO_2$ in the past 30 years. If for example only $1/2$ of the warming was caused by $CO_2$, then $\\Delta T \\approx 1 C$. If on the other hand $CO_2$ stays longer in the atmosphere than other chemicals that might be temporarily cooling the atmosphere down by let's say $1/2$, then $\\Delta T \\approx 4 C$."
   ]
  }
 ],
 "metadata": {
  "kernelspec": {
   "display_name": "Python 3",
   "language": "python",
   "name": "python3"
  },
  "language_info": {
   "codemirror_mode": {
    "name": "ipython",
    "version": 3
   },
   "file_extension": ".py",
   "mimetype": "text/x-python",
   "name": "python",
   "nbconvert_exporter": "python",
   "pygments_lexer": "ipython3",
   "version": "3.6.4"
  }
 },
 "nbformat": 4,
 "nbformat_minor": 2
}
