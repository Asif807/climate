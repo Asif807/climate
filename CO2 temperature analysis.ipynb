{
 "metadata": {
  "name": "CO2 temperature analysis"
 },
 "nbformat": 3,
 "nbformat_minor": 0,
 "worksheets": [
  {
   "cells": [
    {
     "cell_type": "markdown",
     "metadata": {},
     "source": [
      "Since the current concentrations $N$ of $CO_2$ in the atmosphere is so high, the direct\n",
      "dependence of the surface temperature $T$ on $N$ should be given approximately by\n",
      "$$\n",
      "T = T_0 + \\Delta T {\\log{N \\over N_0} \\over \\log 2}\\quad\\quad\\quad\\text{(1)}\n",
      "$$\n",
      "Here $T_0$ is a reference temperature, say the temperature in 1980 and $N_0$ is the corresponding\n",
      "atmospheric concentration of $CO_2$, say 340 ppm at Mauna Loa in 1980. From (1) we see\n",
      "that doubling the CO2 concentration (letting $N = 2N_0$) will increase T by the *temperature\n",
      "sensitivity* $\\Delta T$."
     ]
    },
    {
     "cell_type": "markdown",
     "metadata": {},
     "source": [
      "Let's express $\\Delta T$:\n",
      "$$\n",
      "\\Delta T = (T - T_0) {\\log 2 \\over \\log (N/N_0)}\n",
      "$$"
     ]
    },
    {
     "cell_type": "code",
     "collapsed": false,
     "input": [
      "N0 = 340\n",
      "N = 390\n",
      "dTdt = 0.13 # C / decade\n",
      "dT = dTdt * 3 # 3 decades"
     ],
     "language": "python",
     "metadata": {},
     "outputs": [],
     "prompt_number": 6
    },
    {
     "cell_type": "code",
     "collapsed": false,
     "input": [
      "from math import log\n",
      "deltaT = dT * log(2) / log(1.0*N/N0)\n",
      "print \"\u2206T = \", deltaT, \"C\""
     ],
     "language": "python",
     "metadata": {},
     "outputs": [
      {
       "output_type": "stream",
       "stream": "stdout",
       "text": [
        "\u2206T =  1.97030022376 C\n"
       ]
      }
     ],
     "prompt_number": 10
    },
    {
     "cell_type": "code",
     "collapsed": false,
     "input": [],
     "language": "python",
     "metadata": {},
     "outputs": []
    }
   ],
   "metadata": {}
  }
 ]
}