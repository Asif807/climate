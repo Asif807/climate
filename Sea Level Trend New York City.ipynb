{
 "metadata": {
  "name": "",
  "signature": "sha256:f9c90eb38d0373a36a06c9eb169325635139c45e7b34e6491372b4b65c2f6dfa"
 },
 "nbformat": 3,
 "nbformat_minor": 0,
 "worksheets": [
  {
   "cells": [
    {
     "cell_type": "markdown",
     "metadata": {},
     "source": [
      "Scientific American published an article [New York City Could See 6-Foot Sea Rise, Tripling of Heat Waves by 2100](http://www.scientificamerican.com/article/new-york-city-could-see-6-foot-sea-rise-tripling-of-heat-waves-by-2100/) and the following claims:\n",
      "\n",
      "* ... with sea levels now predicted by a new report to climb by as much as 6 feet by 2100.\n",
      "* New York could see a 6-foot increase under a worst-case scenario that has been revised from previous estimates that 2 to 4 feet would be the maximum rise.\n",
      "\n",
      "The full report is at http://doi.org/10.1111/nyas.12591"
     ]
    },
    {
     "cell_type": "markdown",
     "metadata": {},
     "source": [
      "The full report has a Figure ES.2., which shows New York City sea level rise observations and projections. They don't specify where the observations were taken from, but they wrote it averages 1.2in/decade. That seems to be consistent e.g. with [Mean Sea Level Trend, 8518750 The Battery, New York](http://tidesandcurrents.noaa.gov/sltrends/sltrends_station.shtml?stnid=8518750) (by NOAA), where the average is $(2.83\\pm0.09)\\,\\textrm{mm/yr}$, which is equal to $(1.11\\pm0.04)\\,\\textrm{in/decade}$ (the difference probably caused by them averaging from 1900, while NOAA from 1850):"
     ]
    },
    {
     "cell_type": "code",
     "collapsed": false,
     "input": [
      "2.83 * 10 / 25.4, 0.09 * 10 / 25.4"
     ],
     "language": "python",
     "metadata": {},
     "outputs": [
      {
       "metadata": {},
       "output_type": "pyout",
       "prompt_number": 1,
       "text": [
        "(1.1141732283464567, 0.03543307086614173)"
       ]
      }
     ],
     "prompt_number": 1
    },
    {
     "cell_type": "markdown",
     "metadata": {},
     "source": [
      "Let's take 1.2in/decade, the total rise in 2100 assuming linear trend from now (i.e. in 85 years) is 10.2in:"
     ]
    },
    {
     "cell_type": "code",
     "collapsed": false,
     "input": [
      "1.2 * 8.5"
     ],
     "language": "python",
     "metadata": {},
     "outputs": [
      {
       "metadata": {},
       "output_type": "pyout",
       "prompt_number": 2,
       "text": [
        "10.2"
       ]
      }
     ],
     "prompt_number": 2
    },
    {
     "cell_type": "markdown",
     "metadata": {},
     "source": [
      "Which is about 0.85 ft:"
     ]
    },
    {
     "cell_type": "code",
     "collapsed": false,
     "input": [
      "_ / 12."
     ],
     "language": "python",
     "metadata": {},
     "outputs": [
      {
       "metadata": {},
       "output_type": "pyout",
       "prompt_number": 3,
       "text": [
        "0.85"
       ]
      }
     ],
     "prompt_number": 3
    },
    {
     "cell_type": "markdown",
     "metadata": {},
     "source": [
      "That seems to be consistent with the Figure ES.2."
     ]
    },
    {
     "cell_type": "markdown",
     "metadata": {},
     "source": [
      "The report then claims the following:\n",
      "\n",
      "* Sea level rise is very likely to accelerate as the century progresses.\n",
      "* Projections for sea level rise in New York City are 11 to 21 inches by the 2050s, 18 to 39 inches by the 2080s, and could reach as high as 6 feet by 2100."
     ]
    },
    {
     "cell_type": "markdown",
     "metadata": {},
     "source": [
      "Notes:\n",
      "\n",
      "* Why would the sea level rise accelerate? The CO2 concentrations have been rising througout the 20th century, but the sea level rise is perfectly linear so far, so one would expect some other reason for the possible acceleration of the sea level rise.\n",
      "* The projections are based on the blue \"Middle range\" bar, i.e. 4-9in by 2020, 11-21in by 2050, 18-39in by 2080 and it looks like 21-50in by 2100.\n",
      "* The \"low/high estimate\" looks like is 0/10in by 2020, 9/30in by 2050, 11/59in by 2080, 15/75in by 2100.\n",
      "* The \"could reach as high as 6 feet by 2100\" is based on the \"high estimate\".\n",
      "* If the \"high estimate\" is true, then already by 2020 we should see 10in rise, which is the same as the linear trend at 2100. If the rise in 2020 is instead 0.6in (linear trend), then we are not following the \"Middle range\" or \"High range\" estimate."
     ]
    }
   ],
   "metadata": {}
  }
 ]
}